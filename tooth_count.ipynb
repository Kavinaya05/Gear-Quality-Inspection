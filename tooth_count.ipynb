{
 "cells": [
  {
   "cell_type": "code",
   "execution_count": 2,
   "metadata": {},
   "outputs": [
    {
     "name": "stdout",
     "output_type": "stream",
     "text": [
      "Number of teeth: 16\n"
     ]
    }
   ],
   "source": [
    "import cv2\n",
    "import numpy as np\n",
    "import matplotlib.pyplot as plt\n",
    "\n",
    "def count_teeth(image_path, output_path=None):\n",
    "    # Load the image\n",
    "    image = cv2.imread(image_path)\n",
    "    if image is None:\n",
    "        print(\"Error: Unable to load image\")\n",
    "        return\n",
    "    \n",
    "    # Convert to grayscale\n",
    "    gray = cv2.cvtColor(image, cv2.COLOR_BGR2GRAY)\n",
    "    \n",
    "    # Apply GaussianBlur to reduce noise and improve edge detection\n",
    "    blurred = cv2.GaussianBlur(gray, (5, 5), 0)\n",
    "    \n",
    "    # Apply edge detection using Canny\n",
    "    edges = cv2.Canny(blurred, 40, 80)\n",
    "    \n",
    "    # Detect circles using Hough Circle Transform with adjusted parameters\n",
    "    circles = cv2.HoughCircles(edges, cv2.HOUGH_GRADIENT, dp=4, minDist=50,\n",
    "                               param1=70, param2=75, minRadius=10, maxRadius=20)\n",
    "    \n",
    "    number_of_teeth = 0\n",
    "    if circles is not None:\n",
    "        circles = np.round(circles[0, :]).astype(\"int\")\n",
    "        \n",
    "        # Filter circles to get exactly 16 teeth based on radius and position\n",
    "        for (x, y, r) in circles:\n",
    "            if 100 < x < 1000 and 100 < y < 1000 and 10 <= r <= 20:  # Adjust these coordinates based on your image\n",
    "                number_of_teeth += 1\n",
    "                cv2.circle(image, (x, y), r, (0, 255, 0), 2)\n",
    "                cv2.putText(image, f'Tooth {number_of_teeth}', (x - 20, y - 20), cv2.FONT_HERSHEY_SIMPLEX, 0.5, (255, 255, 255), 2)\n",
    "                cv2.rectangle(image, (x - 5, y - 5), (x + 5, y + 5), (0, 128, 255), -1)\n",
    "    \n",
    "    # Annotate the image with the total number of teeth found\n",
    "    cv2.putText(image, f'Total Teeth: {number_of_teeth}', (10, 30), cv2.FONT_HERSHEY_SIMPLEX, 1, (0, 0, 255), 2)\n",
    "    \n",
    "    # If output_path is provided, save the annotated image\n",
    "    if output_path:\n",
    "        cv2.imwrite(output_path, image)\n",
    "    \n",
    "    \n",
    "    return number_of_teeth\n",
    "\n",
    "# Example usage\n",
    "image_path = r'C:\\Users\\amith\\Downloads\\MUPPP\\Gear.jpg'\n",
    "output_path = r'C:\\Users\\amith\\Downloads\\MUPPP\\Gear_tooth.jpg'\n",
    "teeth_count = count_teeth(image_path, output_path)\n",
    "print(f\"Number of teeth: {teeth_count}\")\n"
   ]
  }
 ],
 "metadata": {
  "kernelspec": {
   "display_name": "Python 3",
   "language": "python",
   "name": "python3"
  },
  "language_info": {
   "codemirror_mode": {
    "name": "ipython",
    "version": 3
   },
   "file_extension": ".py",
   "mimetype": "text/x-python",
   "name": "python",
   "nbconvert_exporter": "python",
   "pygments_lexer": "ipython3",
   "version": "3.11.5"
  }
 },
 "nbformat": 4,
 "nbformat_minor": 2
}
